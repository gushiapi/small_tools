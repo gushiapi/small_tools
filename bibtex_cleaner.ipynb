{
 "cells": [
  {
   "cell_type": "code",
   "execution_count": 285,
   "metadata": {
    "collapsed": true
   },
   "outputs": [],
   "source": [
    "import bibtexparser\n",
    "import difflib \n",
    "import re\n",
    "import os\n",
    "from sets import Set\n",
    "from bibtexparser.bparser import BibTexParser\n",
    "from bibtexparser.customization import convert_to_unicode\n",
    "from bibtexparser.bwriter import BibTexWriter\n",
    "from bibtexparser.bibdatabase import BibDatabase\n",
    "import codecs"
   ]
  },
  {
   "cell_type": "markdown",
   "metadata": {},
   "source": [
    "# Load the .bib files and .tex files"
   ]
  },
  {
   "cell_type": "code",
   "execution_count": 286,
   "metadata": {
    "collapsed": true
   },
   "outputs": [],
   "source": [
    "bibfileNames = ['energyLandscape.bib','bibfile_original.bib', 'bibfile.bib','dynamical_trajectories.bib']\n",
    "texFileNames = [\"NATCOMM_si_revision_v3.tex\"]"
   ]
  },
  {
   "cell_type": "markdown",
   "metadata": {},
   "source": [
    "# Define the similarity between strings"
   ]
  },
  {
   "cell_type": "code",
   "execution_count": 287,
   "metadata": {
    "collapsed": true
   },
   "outputs": [],
   "source": [
    "def similar(seq1, seq2, simValue=0.9):\n",
    "    return difflib.SequenceMatcher(a=seq1.lower(), b=seq2.lower()).ratio() > simValue"
   ]
  },
  {
   "cell_type": "markdown",
   "metadata": {},
   "source": [
    "# Compare two entries"
   ]
  },
  {
   "cell_type": "code",
   "execution_count": 288,
   "metadata": {
    "collapsed": false
   },
   "outputs": [],
   "source": [
    "def compareTwoEntry(bib_1, bib_2):\n",
    "    '''\n",
    "    compare whether two entries are the same, may need to add try-catch \n",
    "    '''\n",
    "    if bib_1['ID']==bib_2['ID']:\n",
    "        return True\n",
    "    else:\n",
    "        try:\n",
    "            a1 = similar(bib_1['title'], bib_2['title'], 0.8)\n",
    "        except KeyError:\n",
    "            return False\n",
    "        #try:\n",
    "        #    a2 = similar(bib_1['journal'], bib_2['journal'])\n",
    "        #except KeyError:\n",
    "        a2 = True\n",
    "        try:    \n",
    "            a3 = similar(bib_1['volume'], bib_2['volume'])\n",
    "        except KeyError:\n",
    "            a3 = True\n",
    "        try:\n",
    "            a4 = similar(bib_1['year'], bib_2['year'])\n",
    "        except KeyError:\n",
    "            a4 = True\n",
    "        try:    \n",
    "            a5 = similar(bib_1['pages'], bib_2['pages'])\n",
    "        except KeyError:\n",
    "            a5 = True\n",
    "        #try:\n",
    "        #    a6 = similar(bib_1['author'], bib_2['author'], 0.8)\n",
    "        #except KeyError:\n",
    "        a6 = True\n",
    "        if similar(bib_1['title'], bib_2['title'], 0.95) and a4:\n",
    "            return True\n",
    "        else:\n",
    "            return (a1 and a2 and a3 and a4 and a5 and a6)\n"
   ]
  },
  {
   "cell_type": "markdown",
   "metadata": {},
   "source": [
    "# Save unique entries only but mutiple keys"
   ]
  },
  {
   "cell_type": "code",
   "execution_count": 289,
   "metadata": {
    "collapsed": false
   },
   "outputs": [],
   "source": [
    "def uniqueBibTexItem(bib_entries):\n",
    "    '''\n",
    "    kill the duplicated items and save the key names\n",
    "    '''\n",
    "    currIdx = 0\n",
    "    while currIdx < len(bib_entries):\n",
    "        if currIdx == 0:\n",
    "            bib_entries[currIdx]['ID_SETS'] = Set([bib_entries[currIdx]['ID']])\n",
    "            currIdx = currIdx + 1\n",
    "        else:\n",
    "            flag = False\n",
    "            for i in range(currIdx):\n",
    "                if bib_entries[currIdx]['ID'] in bib_entries[i]['ID_SETS']:\n",
    "                    #print bib_entries[currIdx]['ID'],'\\t',bib_entries[currIdx]['title'], '\\n', \\\n",
    "                    #    bib_entries[currIdx]['ID'], '\\t', bib_entries[i]['title'],'\\n','\\n'\n",
    "                    del bib_entries[currIdx]\n",
    "                    flag = True\n",
    "                    break\n",
    "                elif compareTwoEntry(bib_entries[currIdx], bib_entries[i]):\n",
    "                    bib_entries[i]['ID_SETS'].add(bib_entries[currIdx]['ID'])\n",
    "                    #print bib_entries[currIdx]['ID'],'\\t',bib_entries[currIdx]['title'], '\\n', \\\n",
    "                    #    bib_entries[currIdx]['ID'], '\\t', bib_entries[i]['title'],'\\n','\\n'\n",
    "                    del bib_entries[currIdx]\n",
    "                    flag = True\n",
    "                    break\n",
    "            if not flag:\n",
    "                bib_entries[currIdx]['ID_SETS'] = Set([bib_entries[currIdx]['ID']])\n",
    "                currIdx = currIdx + 1\n",
    "    return bib_entries"
   ]
  },
  {
   "cell_type": "markdown",
   "metadata": {},
   "source": [
    "# Merge the duplicated items"
   ]
  },
  {
   "cell_type": "code",
   "execution_count": 290,
   "metadata": {
    "collapsed": false
   },
   "outputs": [],
   "source": [
    "# Read the .bib files into the bibtex_subjects\n",
    "parser = BibTexParser()\n",
    "parser.customization = convert_to_unicode\n",
    "bib_database = bibtexparser.loads(\"\") \n",
    "for bibfile in bibfileNames:    \n",
    "    with open(bibfile) as tmp_bibFile:\n",
    "        tmp_bibtex_str = tmp_bibFile.read()\n",
    "        tmp = bibtexparser.loads(tmp_bibtex_str, parser=parser) \n",
    "        bib_database.entries = bib_database.entries + tmp.entries[:]\n",
    "uniqBibEntries = uniqueBibTexItem(bib_database.entries)\n"
   ]
  },
  {
   "cell_type": "markdown",
   "metadata": {},
   "source": [
    "# Replace in the .tex files"
   ]
  },
  {
   "cell_type": "code",
   "execution_count": 291,
   "metadata": {
    "collapsed": false
   },
   "outputs": [],
   "source": [
    "if not os.path.exists(\"output\"):\n",
    "    os.makedirs(\"output\")\n",
    "for texfile in texFileNames:\n",
    "    with open(texfile) as texFile:\n",
    "        texString = texFile.read()\n",
    "        for i in range(len(bib_database.entries)):\n",
    "            curr_bib_item = bib_database.entries[i]\n",
    "            for id_name in curr_bib_item['ID_SETS']:\n",
    "                if id_name != curr_bib_item['ID']:\n",
    "                    texString = re.sub(id_name, curr_bib_item['ID'],texString)\n",
    "    with open(\"output/clean_\"+texfile, \"a+\") as save_tex_file:\n",
    "        save_tex_file.write(texString)"
   ]
  },
  {
   "cell_type": "code",
   "execution_count": 295,
   "metadata": {
    "collapsed": false
   },
   "outputs": [],
   "source": [
    "for bibitem in bib_database.entries:\n",
    "    try:\n",
    "        del bibitem['ID_SETS']\n",
    "    except KeyError:\n",
    "        continue\n",
    "\n",
    "writer = BibTexWriter()\n",
    "with codecs.open(\"output/clean_bibuniq_combo.bib\",\"w+\",encoding='utf-8') as save_bib_file:\n",
    "    save_bib_file.write(writer.write(bib_database))\n"
   ]
  },
  {
   "cell_type": "code",
   "execution_count": 294,
   "metadata": {
    "collapsed": false
   },
   "outputs": [
    {
     "data": {
      "text/plain": [
       "313"
      ]
     },
     "execution_count": 294,
     "metadata": {},
     "output_type": "execute_result"
    }
   ],
   "source": [
    "len(bib_database.entries)"
   ]
  },
  {
   "cell_type": "code",
   "execution_count": null,
   "metadata": {
    "collapsed": true
   },
   "outputs": [],
   "source": []
  }
 ],
 "metadata": {
  "kernelspec": {
   "display_name": "Python 2",
   "language": "python",
   "name": "python2"
  },
  "language_info": {
   "codemirror_mode": {
    "name": "ipython",
    "version": 2
   },
   "file_extension": ".py",
   "mimetype": "text/x-python",
   "name": "python",
   "nbconvert_exporter": "python",
   "pygments_lexer": "ipython2",
   "version": "2.7.10"
  }
 },
 "nbformat": 4,
 "nbformat_minor": 0
}
